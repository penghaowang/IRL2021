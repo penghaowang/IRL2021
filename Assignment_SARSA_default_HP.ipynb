{
 "cells": [
  {
   "cell_type": "markdown",
   "metadata": {},
   "source": [
    "# Assignment"
   ]
  },
  {
   "cell_type": "code",
   "execution_count": 1,
   "metadata": {},
   "outputs": [],
   "source": [
    "# Import \n",
    "\n",
    "import numpy as np\n",
    "import matplotlib.pyplot as plt\n",
    "from degree_freedom_queen import *\n",
    "from degree_freedom_king1 import *\n",
    "from degree_freedom_king2 import *\n",
    "from generate_game import *\n",
    "from Chess_env import *\n",
    "import random\n",
    "\n",
    "random.seed(2077) \n",
    "size_board = 4"
   ]
  },
  {
   "cell_type": "markdown",
   "metadata": {},
   "source": [
    "## The Environment\n",
    "\n",
    "You can find the environment in the file Chess_env, which contains the class Chess_env. To define an object, you need to provide the board size considered as input. In our example, size_board=4. \n",
    "Chess_env is composed by the following methods:\n",
    "\n",
    "1. Initialise_game. The method initialises an episode by placing the three pieces considered (Agent's king and queen, enemy's king) in the chess board. The outputs of the method are described below in order.\n",
    "\n",
    "     S $\\;$ A matrix representing the board locations filled with 4 numbers: 0, no piece in that position; 1, location of the \n",
    "     agent's king; 2 location of the queen; 3 location of the enemy king.\n",
    "     \n",
    "     X $\\;$ The features, that is the input to the neural network. See the assignment for more information regarding the            definition of the features adopted. To personalise this, go into the Features method of the class Chess_env() and change        accordingly.\n",
    "     \n",
    "     allowed_a $\\;$ The allowed actions that the agent can make. The agent is moving a king, with a total number of 8                possible actions, and a queen, with a total number of $(board_{size}-1)\\times 8$ actions. The total number of possible actions correspond      to the sum of the two, but not all actions are allowed in a given position (movements to locations outside the borders or      against chess rules). Thus, the variable allowed_a is a vector that is one (zero) for an action that the agent can (can't)      make. Be careful, apply the policy considered on the actions that are allowed only.\n",
    "     \n",
    "\n",
    "2. OneStep. The method performs a one step update of the system. Given as input the action selected by the agent, it updates the chess board by performing that action and the response of the enemy king (which is a random allowed action in the settings considered). The first three outputs are the same as for the Initialise_game method, but the variables are computed for the position reached after the update of the system. The fourth and fifth outputs are:\n",
    "\n",
    "     R $\\;$ The reward. To change this, look at the OneStep method of the class where the rewards are set.\n",
    "     \n",
    "     Done $\\;$ A variable that is 1 if the episode has ended (checkmate or draw).\n",
    "     \n",
    "     \n",
    "3. Features. Given the chessboard position, the method computes the features.\n",
    "\n",
    "This information and a quick analysis of the class should be all you need to get going. The other functions that the class exploits are uncommented and constitute an example on how not to write a python code. You can take a look at them if you want, but it is not necessary.\n",
    "\n",
    "\n",
    "\n",
    "\n"
   ]
  },
  {
   "cell_type": "code",
   "execution_count": 2,
   "metadata": {},
   "outputs": [],
   "source": [
    "## INITIALISE THE ENVIRONMENT\n",
    "\n",
    "env=Chess_Env(size_board)"
   ]
  },
  {
   "cell_type": "code",
   "execution_count": 3,
   "metadata": {},
   "outputs": [
    {
     "name": "stdout",
     "output_type": "stream",
     "text": [
      "[[0 0 0 0]\n",
      " [0 0 0 2]\n",
      " [3 0 1 0]\n",
      " [0 0 0 0]]\n",
      "check?  0\n",
      "dofk2  1\n",
      "\n",
      "[[0 0 0 0]\n",
      " [3 0 0 0]\n",
      " [0 0 1 0]\n",
      " [0 0 0 2]]\n",
      "0  0\n",
      "check?  0\n",
      "dofk2  3\n",
      "\n",
      "[[0 3 0 0]\n",
      " [0 0 0 0]\n",
      " [0 0 1 0]\n",
      " [2 0 0 0]]\n",
      "0  0\n",
      "check?  0\n",
      "dofk2  1\n",
      "\n",
      "[[3 0 0 0]\n",
      " [0 0 2 0]\n",
      " [0 0 1 0]\n",
      " [0 0 0 0]]\n",
      "0  0\n",
      "check?  0\n",
      "dofk2  0\n",
      "\n",
      "[[3 0 0 0]\n",
      " [0 0 2 1]\n",
      " [0 0 0 0]\n",
      " [0 0 0 0]]\n",
      "0.0  1\n",
      "check?  0\n",
      "dofk2  0\n"
     ]
    }
   ],
   "source": [
    "## PRINT 5 STEPS OF AN EPISODE CONSIDERING A RANDOM AGENT\n",
    "\n",
    "S,X,allowed_a=env.Initialise_game()                       # INTIALISE GAME\n",
    "\n",
    "print(S)                                                  # PRINT CHESS BOARD (SEE THE DESCRIPTION ABOVE)\n",
    "\n",
    "print('check? ',env.check)                                # PRINT VARIABLE THAT TELLS IF ENEMY KING IS IN CHECK (1) OR NOT (0)\n",
    "print('dofk2 ',np.sum(env.dfk2_constrain).astype(int))    # PRINT THE NUMBER OF LOCATIONS THAT THE ENEMY KING CAN MOVE TO\n",
    "\n",
    "\n",
    "for i in range(5):\n",
    "    \n",
    "    a,_=np.where(allowed_a==1)                  # FIND WHAT THE ALLOWED ACTIONS ARE\n",
    "    a_agent=np.random.permutation(a)[0]         # MAKE A RANDOM ACTION\n",
    "\n",
    "    S,X,allowed_a,R,Done=env.OneStep(a_agent)   # UPDATE THE ENVIRONMENT\n",
    "    \n",
    "    \n",
    "    ## PRINT CHESS BOARD AND VARIABLES\n",
    "    print('')\n",
    "    print(S)\n",
    "    print(R,'', Done)\n",
    "    print('check? ',env.check)\n",
    "    print('dofk2 ',np.sum(env.dfk2_constrain).astype(int))\n",
    "    #print('a', allowed_a)\n",
    "    \n",
    "    # TERMINATE THE EPISODE IF Done=True (DRAW OR CHECKMATE)\n",
    "    if Done:\n",
    "        break\n",
    "        \n"
   ]
  },
  {
   "cell_type": "code",
   "execution_count": 4,
   "metadata": {},
   "outputs": [
    {
     "name": "stdout",
     "output_type": "stream",
     "text": [
      "Random_Agent, Average reward: 0.197 Number of steps:  7.048\n"
     ]
    }
   ],
   "source": [
    "# PERFORM N_episodes=1000 EPISODES MAKING RANDOM ACTIONS AND COMPUTE THE AVERAGE REWARD AND NUMBER OF MOVES \n",
    "\n",
    "S,X,allowed_a=env.Initialise_game()\n",
    "N_episodes=1000\n",
    "\n",
    "# VARIABLES WHERE TO SAVE THE FINAL REWARD IN AN EPISODE AND THE NUMBER OF MOVES \n",
    "R_save_random = np.zeros([N_episodes, 1])\n",
    "N_moves_save_random = np.zeros([N_episodes, 1])\n",
    "\n",
    "for n in range(N_episodes):\n",
    "    \n",
    "    S,X,allowed_a=env.Initialise_game()     # INITIALISE GAME\n",
    "    Done=0                                  # SET Done=0 AT THE BEGINNING\n",
    "    i=1                                     # COUNTER FOR THE NUMBER OF ACTIONS (MOVES) IN AN EPISODE\n",
    "    \n",
    "    # UNTIL THE EPISODE IS NOT OVER...(Done=0)\n",
    "    while Done==0:\n",
    "        \n",
    "        # SAME AS THE CELL BEFORE, BUT SAVING THE RESULTS WHEN THE EPISODE TERMINATES \n",
    "        \n",
    "        a,_=np.where(allowed_a==1)\n",
    "        a_agent=np.random.permutation(a)[0]\n",
    "\n",
    "        S,X,allowed_a,R,Done=env.OneStep(a_agent)\n",
    "        \n",
    "        \n",
    "        if Done:\n",
    "            \n",
    "            R_save_random[n]=np.copy(R)\n",
    "            N_moves_save_random[n]=np.copy(i)\n",
    "\n",
    "            break\n",
    "\n",
    "        i=i+1                               # UPDATE THE COUNTER\n",
    "\n",
    "\n",
    "\n",
    "# AS YOU SEE, THE PERFORMANCE OF A RANDOM AGENT ARE NOT GREAT, SINCE THE MAJORITY OF THE POSITIONS END WITH A DRAW \n",
    "# (THE ENEMY KING IS NOT IN CHECK AND CAN'T MOVE)\n",
    "\n",
    "print('Random_Agent, Average reward:',np.mean(R_save_random),'Number of steps: ',np.mean(N_moves_save_random))\n",
    "\n"
   ]
  },
  {
   "cell_type": "code",
   "execution_count": 5,
   "metadata": {},
   "outputs": [],
   "source": [
    "## ADAM code from previous lab\n",
    "\n",
    "class Adam:\n",
    "\n",
    "    def __init__(self, Params, beta1):\n",
    "        \n",
    "        N_dim=np.shape(np.shape(Params))[0] # It finds out if the parameters given are in a vector (N_dim=1) or a matrix (N_dim=2)\n",
    "        \n",
    "        # INITIALISATION OF THE MOMENTUMS\n",
    "        if N_dim==1:\n",
    "               \n",
    "            self.N1=np.shape(Params)[0]\n",
    "            \n",
    "            self.mt=np.zeros([self.N1])\n",
    "            self.vt=np.zeros([self.N1])\n",
    "        \n",
    "        if N_dim==2:\n",
    "            \n",
    "            self.N1=np.shape(Params)[0]\n",
    "            self.N2=np.shape(Params)[1]\n",
    "        \n",
    "            self.mt=np.zeros([self.N1,self.N2])\n",
    "            self.vt=np.zeros([self.N1,self.N2])\n",
    "        \n",
    "        # HYPERPARAMETERS OF ADAM\n",
    "        self.beta1=beta1\n",
    "        self.beta2=0.999\n",
    "        \n",
    "        self.epsilon=10**(-8)\n",
    "        \n",
    "        # COUNTER OF THE TRAINING PROCESS\n",
    "        self.counter=0\n",
    "        \n",
    "        \n",
    "    def Compute(self,Grads):\n",
    "                \n",
    "        self.counter=self.counter+1\n",
    "        \n",
    "        self.mt=self.beta1*self.mt+(1-self.beta1)*Grads\n",
    "        \n",
    "        self.vt=self.beta2*self.vt+(1-self.beta2)*Grads**2\n",
    "        \n",
    "        mt_n=self.mt/(1-self.beta1**self.counter)\n",
    "        vt_n=self.vt/(1-self.beta2**self.counter)\n",
    "        \n",
    "        New_grads=mt_n/(np.sqrt(vt_n)+self.epsilon)\n",
    "        \n",
    "        return New_grads\n"
   ]
  },
  {
   "cell_type": "code",
   "execution_count": 6,
   "metadata": {},
   "outputs": [],
   "source": [
    "# policy reference from previous lab\n",
    "def EpsilonGreedy_Policy(Qvalues, epsilon, allowed_a):\n",
    "    \n",
    "    N_a=np.shape(Qvalues)[0]\n",
    "\n",
    "    rand_value=np.random.uniform(0,1)\n",
    "\n",
    "    rand_a=rand_value<epsilon\n",
    "\n",
    "    if rand_a==True:\n",
    "        # there is the probability of epsilon to choose a random allowed action\n",
    "        a = np.random.choice(np.where(allowed_a == [1])[0])\n",
    "        #print('choose a random a from',np.where(allowed_a == [1])[0],a)\n",
    "    else:\n",
    "        #return the allowed action with highest Qvalue\n",
    "        a=np.argmax(Qvalues * allowed_a.T)\n",
    "            \n",
    "    return a"
   ]
  },
  {
   "cell_type": "code",
   "execution_count": 7,
   "metadata": {},
   "outputs": [],
   "source": [
    "# INITIALISE THE PARAMETERS OF YOUR NEURAL NETWORK AND...\n",
    "# PLEASE CONSIDER TO USE A MASK OF ONE FOR THE ACTION MADE AND ZERO OTHERWISE IF YOU ARE NOT USING VANILLA GRADIENT DESCENT...\n",
    "# WE SUGGEST A NETWORK WITH ONE HIDDEN LAYER WITH SIZE 200. \n",
    "\n",
    "\n",
    "S,X,allowed_a=env.Initialise_game()\n",
    "N_a=np.shape(allowed_a)[0]   # TOTAL NUMBER OF POSSIBLE ACTIONS\n",
    "\n",
    "N_in=np.shape(X)[0]    ## INPUT SIZE\n",
    "N_h=200                ## NUMBER OF HIDDEN NODES\n",
    "beta1=0.9               # First order momentum for Adam\n",
    "\n",
    "## INITALISE YOUR NEURAL NETWORK...\n",
    "W1 = np.random.randn(N_in, N_h)/np.sqrt(N_in)\n",
    "W2 = np.random.randn(N_h, N_a)/np.sqrt(N_h)\n",
    "b1 = np.zeros([1, N_h])\n",
    "b2 = np.zeros([1, N_a])\n",
    "#using ADAM as the optimizer\n",
    "AdamW1 = Adam(W1, beta1)\n",
    "AdamW2 = Adam(W2, beta1)\n",
    "Adamb1 = Adam(b1, beta1)\n",
    "Adamb2 = Adam(b2, beta1)\n",
    "\n",
    "\n",
    "# HYPERPARAMETERS SUGGESTED (FOR A GRID SIZE OF 4)\n",
    "\n",
    "epsilon_0 = 0.2     # STARTING VALUE OF EPSILON FOR THE EPSILON-GREEDY POLICY\n",
    "beta = 0.00005      # THE PARAMETER SETS HOW QUICKLY THE VALUE OF EPSILON IS DECAYING (SEE epsilon_f BELOW)\n",
    "gamma = 0.85        # THE DISCOUNT FACTOR\n",
    "eta = 0.0035        # THE LEARNING RATE\n",
    "\n",
    "\n",
    "N_episodes = 100000 # THE NUMBER OF GAMES TO BE PLAYED \n",
    "\n",
    "# SAVING VARIABLES\n",
    "R_save = np.zeros([N_episodes, 1])\n",
    "N_moves_save = np.zeros([N_episodes, 1])\n"
   ]
  },
  {
   "cell_type": "code",
   "execution_count": 8,
   "metadata": {
    "scrolled": true
   },
   "outputs": [
    {
     "name": "stderr",
     "output_type": "stream",
     "text": [
      "<ipython-input-8-b9fcda359177>:24: RuntimeWarning: overflow encountered in exp\n",
      "  Qvalue = 1 / (1 + np.exp(-h2)) # aka x2\n",
      "<ipython-input-8-b9fcda359177>:71: RuntimeWarning: overflow encountered in exp\n",
      "  Qvalue_next = 1 / (1 + np.exp(-h2_next))\n"
     ]
    }
   ],
   "source": [
    "# TRAINING LOOP BONE STRUCTURE... SARSA\n",
    "\n",
    "for n in range(N_episodes):\n",
    "    \n",
    "    epsilon_f = epsilon_0 / (1 + beta * n)   ## DECAYING EPSILON\n",
    "    Done=0                                   ## SET DONE TO ZERO (BEGINNING OF THE EPISODE)\n",
    "    i = 1                                    ## COUNTER FOR NUMBER OF ACTIONS\n",
    "    \n",
    "    S,X,allowed_a=env.Initialise_game()      ## INITIALISE GAME\n",
    "    #print(n)                                 ## REMOVE THIS OF COURSE, WE USED THIS TO CHECK THAT IT WAS RUNNING\n",
    "    \n",
    "    PIPPO = 0 # determine if this is the intial state\n",
    "    \n",
    "    while Done==0:                           ## START THE EPISODE\n",
    "        \n",
    "        if PIPPO: \n",
    "            Qvalue = Qvalue_next\n",
    "            a = a_next\n",
    "        else:\n",
    "            x0 = X\n",
    "            h1 = np.dot(x0, W1) + b1\n",
    "            x1 = 1 / (1 + np.exp(-h1))\n",
    "            h2 = np.dot(x1, W2) + b2\n",
    "            Qvalue = 1 / (1 + np.exp(-h2)) # aka x2\n",
    "            a = EpsilonGreedy_Policy(Qvalue, epsilon_f, allowed_a) \n",
    "        #print(n,np.where(allowed_a==1),a_agent) for test only\n",
    "        S_next,X_next,allowed_a_next,R,Done=env.OneStep(a)\n",
    "        \n",
    "        ## THE EPISODE HAS ENDED, UPDATE...BE CAREFUL, THIS IS THE LAST STEP OF THE EPISODE\n",
    "        if Done==1:\n",
    "            \n",
    "            # calculate delta\n",
    "            delta = np.zeros(b2.shape)\n",
    "            delta[0][a] = R - Qvalue[0][a] \n",
    "            \n",
    "            delta_W2 = np.matmul(np.transpose(x1),delta)\n",
    "            delta_b2 = np.expand_dims(np.sum(delta,0),0)  \n",
    "            #Qvalue[0][a] = Qvalue[0][a] + eta*delta\n",
    "            \n",
    "            delta2 = x1 * (1 - x1) * np.dot(delta, W2.T) \n",
    "            \n",
    "            delta_W1 = np.matmul(np.transpose(x0).reshape(-1,1),delta2)\n",
    "            delta_b1 = np.expand_dims(np.sum(delta2,0),0) \n",
    "            \n",
    "            #update parameters with adam\n",
    "            W2=W2+eta*AdamW2.Compute(delta_W2)\n",
    "            b2=b2+eta*Adamb2.Compute(delta_b2)\n",
    "            W1=W1+eta*AdamW1.Compute(delta_W1)\n",
    "            b1=b1+eta*Adamb1.Compute(delta_b1)\n",
    "            \n",
    "            #saving reward and number of moves\n",
    "            R_save[n] = R\n",
    "            N_moves_save[n] = i\n",
    "\n",
    "\n",
    "            break\n",
    "        \n",
    "        # IF THE EPISODE IS NOT OVER...\n",
    "        else:\n",
    "            \n",
    "            ## if not end\n",
    "            # Compute the delta\n",
    "            x0_next = X_next\n",
    "            h1_next = np.dot(x0_next, W1) + b1\n",
    "            x1_next = 1 / (1 + np.exp(-h1_next))\n",
    "            h2_next = np.dot(x1_next, W2) + b2\n",
    "            Qvalue_next = 1 / (1 + np.exp(-h2_next))\n",
    "            a_next = EpsilonGreedy_Policy(Qvalue_next, epsilon_f, allowed_a_next)\n",
    "            delta = np.zeros(b2.shape)\n",
    "            delta[0][a] = R - Qvalue[0][a] + gamma * Qvalue_next[0][a_next] #update delta wrt qvalue and current action\n",
    "            \n",
    "            \n",
    "            \n",
    "            delta_W2 = np.matmul(np.transpose(x1),delta)\n",
    "            delta_b2 = np.expand_dims(np.sum(delta,0),0)  \n",
    "            #Qvalue[0][a] = Qvalue[0][a] + eta*delta\n",
    "            \n",
    "            delta2 = x1 * (1 - x1) * np.dot(delta, W2.T) \n",
    "            \n",
    "            delta_W1 = np.matmul(np.transpose(x0).reshape(-1,1),delta2)\n",
    "            delta_b1 = np.expand_dims(np.sum(delta2,0),0) \n",
    "            #updating parameters with adam\n",
    "            W2=W2+eta*AdamW2.Compute(delta_W2)\n",
    "            b2=b2+eta*Adamb2.Compute(delta_b2)\n",
    "            W1=W1+eta*AdamW1.Compute(delta_W1)\n",
    "            b1=b1+eta*Adamb1.Compute(delta_b1)\n",
    "            # Update the Qvalues\n",
    "            #Qtable[a,ind_x,ind_v]=Qtable[a,ind_x,ind_v]+eta*delta\n",
    "\n",
    "            \n",
    "            PIPPO=1 #for sarsa only \n",
    "            \n",
    "            \n",
    "        # NEXT STATE AND CO. BECOME ACTUAL STATE...     \n",
    "        S=np.copy(S_next)\n",
    "        X=np.copy(X_next)\n",
    "        allowed_a=np.copy(allowed_a_next)\n",
    "        \n",
    "        i += 1  # UPDATE COUNTER FOR NUMBER OF ACTIONS\n"
   ]
  },
  {
   "cell_type": "code",
   "execution_count": 9,
   "metadata": {},
   "outputs": [],
   "source": [
    "import matplotlib.pyplot as plt\n",
    "import pandas as pd"
   ]
  },
  {
   "cell_type": "code",
   "execution_count": 14,
   "metadata": {},
   "outputs": [
    {
     "data": {
      "text/plain": [
       "Text(0.5, 1.0, 'Average reward per epoch')"
      ]
     },
     "execution_count": 14,
     "metadata": {},
     "output_type": "execute_result"
    },
    {
     "data": {
      "image/png": "[encoded data removed]",
      "text/plain": [
       "<Figure size 432x288 with 1 Axes>"
      ]
     },
     "metadata": {
      "needs_background": "light"
     },
     "output_type": "display_data"
    }
   ],
   "source": [
    "R_save_df = pd.DataFrame(R_save)\n",
    "Rewm = R_save_df.ewm(span = 10000).mean()\n",
    "plt.plot(Rewm[100:])\n",
    "\n",
    "plt.xlabel('Episodes')\n",
    "plt.ylabel('Reward')\n",
    "plt.title('Average reward per epoch')"
   ]
  },
  {
   "cell_type": "code",
   "execution_count": 13,
   "metadata": {},
   "outputs": [
    {
     "data": {
      "text/plain": [
       "Text(0.5, 1.0, 'Average moves per epoch')"
      ]
     },
     "execution_count": 13,
     "metadata": {},
     "output_type": "execute_result"
    },
    {
     "data": {
      "image/png": "[encoded data removed]",
      "text/plain": [
       "<Figure size 432x288 with 1 Axes>"
      ]
     },
     "metadata": {
      "needs_background": "light"
     },
     "output_type": "display_data"
    }
   ],
   "source": [
    "N_moves_save_df = pd.DataFrame(N_moves_save)\n",
    "Nmewm = N_moves_save_df.ewm(span = 10000).mean()\n",
    "plt.plot(Nmewm[100:])\n",
    "plt.xlabel('Episodes')\n",
    "plt.ylabel('Moves')\n",
    "plt.title('Average moves per epoch')"
   ]
  }
 ],
 "metadata": {
  "kernelspec": {
   "display_name": "Python 3",
   "language": "python",
   "name": "python3"
  },
  "language_info": {
   "codemirror_mode": {
    "name": "ipython",
    "version": 3
   },
   "file_extension": ".py",
   "mimetype": "text/x-python",
   "name": "python",
   "nbconvert_exporter": "python",
   "pygments_lexer": "ipython3",
   "version": "3.8.3"
  }
 },
 "nbformat": 4,
 "nbformat_minor": 5
}
